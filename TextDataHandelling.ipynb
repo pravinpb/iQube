{
 "cells": [
  {
   "cell_type": "code",
   "execution_count": null,
   "metadata": {},
   "outputs": [],
   "source": []
  }
 ],
 "metadata": {
  "kernelspec": {
   "display_name": "Python 3.10.4 64-bit",
   "language": "python",
   "name": "python3"
  },
  "language_info": {
   "name": "python",
   "version": "3.10.4"
  },
  "orig_nbformat": 4,
  "vscode": {
   "interpreter": {
    "hash": "a17e23e691a3fd027880c3dc5b55898c6632aeecdd31999b9d6ddbe3b33ac9fd"
   }
  }
 },
 "nbformat": 4,
 "nbformat_minor": 2
}
