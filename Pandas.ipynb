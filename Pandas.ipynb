{
 "cells": [
  {
   "cell_type": "code",
   "execution_count": 1,
   "metadata": {},
   "outputs": [],
   "source": [
    "import pandas as pd\n",
    "import numpy as np"
   ]
  },
  {
   "cell_type": "code",
   "execution_count": 2,
   "metadata": {},
   "outputs": [],
   "source": [
    "lst = ['w','e','r']"
   ]
  },
  {
   "cell_type": "code",
   "execution_count": 5,
   "metadata": {},
   "outputs": [
    {
     "data": {
      "text/plain": [
       "0    w\n",
       "1    e\n",
       "2    r\n",
       "dtype: object"
      ]
     },
     "execution_count": 5,
     "metadata": {},
     "output_type": "execute_result"
    }
   ],
   "source": [
    "pd.Series(lst) "
   ]
  },
  {
   "cell_type": "code",
   "execution_count": 10,
   "metadata": {},
   "outputs": [],
   "source": [
    "lst2 = ['a','s','d']"
   ]
  },
  {
   "cell_type": "code",
   "execution_count": 11,
   "metadata": {},
   "outputs": [
    {
     "data": {
      "text/plain": [
       "a    w\n",
       "s    e\n",
       "d    r\n",
       "dtype: object"
      ]
     },
     "execution_count": 11,
     "metadata": {},
     "output_type": "execute_result"
    }
   ],
   "source": [
    "pd.Series(data=lst,index = lst2)"
   ]
  },
  {
   "cell_type": "code",
   "execution_count": 12,
   "metadata": {},
   "outputs": [],
   "source": [
    "d = {'a':'l','b':'W','c':'M'}"
   ]
  },
  {
   "cell_type": "code",
   "execution_count": 14,
   "metadata": {},
   "outputs": [
    {
     "data": {
      "text/plain": [
       "a    l\n",
       "b    W\n",
       "c    M\n",
       "dtype: object"
      ]
     },
     "execution_count": 14,
     "metadata": {},
     "output_type": "execute_result"
    }
   ],
   "source": [
    "pd.Series(d)"
   ]
  },
  {
   "cell_type": "code",
   "execution_count": 19,
   "metadata": {},
   "outputs": [],
   "source": [
    "s1 = pd.Series(CFC, index=[1,2,3,4])"
   ]
  },
  {
   "cell_type": "code",
   "execution_count": 18,
   "metadata": {},
   "outputs": [],
   "source": [
    "CFC = ['dhoni','kholi','anderson','morgan']"
   ]
  },
  {
   "cell_type": "code",
   "execution_count": 20,
   "metadata": {},
   "outputs": [
    {
     "data": {
      "text/plain": [
       "1       dhoni\n",
       "2       kholi\n",
       "3    anderson\n",
       "4      morgan\n",
       "dtype: object"
      ]
     },
     "execution_count": 20,
     "metadata": {},
     "output_type": "execute_result"
    }
   ],
   "source": [
    "s1"
   ]
  },
  {
   "cell_type": "code",
   "execution_count": 25,
   "metadata": {},
   "outputs": [],
   "source": [
    "s2 = pd.Series(avg)"
   ]
  },
  {
   "cell_type": "code",
   "execution_count": 27,
   "metadata": {},
   "outputs": [],
   "source": [
    "avg = ['iron','caption','thor','thor']"
   ]
  },
  {
   "cell_type": "code",
   "execution_count": 28,
   "metadata": {},
   "outputs": [
    {
     "data": {
      "text/plain": [
       "0       iron\n",
       "1    caption\n",
       "2       thor\n",
       "3       thor\n",
       "dtype: object"
      ]
     },
     "execution_count": 28,
     "metadata": {},
     "output_type": "execute_result"
    }
   ],
   "source": [
    "s2"
   ]
  },
  {
   "cell_type": "code",
   "execution_count": 37,
   "metadata": {},
   "outputs": [],
   "source": [
    "seri1 = pd.Series([1,2,3,4],index=['summa','Germany','USSR','Japan'])"
   ]
  },
  {
   "cell_type": "code",
   "execution_count": 38,
   "metadata": {},
   "outputs": [],
   "source": [
    "seri2 = pd.Series([5,4,6,4],index=['USSR','Japan','Usa','Germany'])"
   ]
  },
  {
   "cell_type": "code",
   "execution_count": 39,
   "metadata": {},
   "outputs": [
    {
     "data": {
      "text/plain": [
       "summa      1\n",
       "Germany    2\n",
       "USSR       3\n",
       "Japan      4\n",
       "dtype: int64"
      ]
     },
     "execution_count": 39,
     "metadata": {},
     "output_type": "execute_result"
    }
   ],
   "source": [
    "seri1"
   ]
  },
  {
   "cell_type": "code",
   "execution_count": 40,
   "metadata": {},
   "outputs": [
    {
     "data": {
      "text/plain": [
       "USSR       5\n",
       "Japan      4\n",
       "Usa        6\n",
       "Germany    4\n",
       "dtype: int64"
      ]
     },
     "execution_count": 40,
     "metadata": {},
     "output_type": "execute_result"
    }
   ],
   "source": [
    "seri2"
   ]
  },
  {
   "cell_type": "code",
   "execution_count": 41,
   "metadata": {},
   "outputs": [
    {
     "data": {
      "text/plain": [
       "Germany    6.0\n",
       "Japan      8.0\n",
       "USSR       8.0\n",
       "Usa        NaN\n",
       "summa      NaN\n",
       "dtype: float64"
      ]
     },
     "execution_count": 41,
     "metadata": {},
     "output_type": "execute_result"
    }
   ],
   "source": [
    "seri1 + seri2"
   ]
  },
  {
   "cell_type": "code",
   "execution_count": 42,
   "metadata": {},
   "outputs": [],
   "source": [
    "from numpy.random import randn"
   ]
  },
  {
   "cell_type": "code",
   "execution_count": 44,
   "metadata": {},
   "outputs": [],
   "source": [
    "df = pd.DataFrame(randn(5,5),index='A B C D E'.split(), columns='P Q R S T'.split())"
   ]
  },
  {
   "cell_type": "code",
   "execution_count": 48,
   "metadata": {},
   "outputs": [
    {
     "data": {
      "text/html": [
       "<div>\n",
       "<style scoped>\n",
       "    .dataframe tbody tr th:only-of-type {\n",
       "        vertical-align: middle;\n",
       "    }\n",
       "\n",
       "    .dataframe tbody tr th {\n",
       "        vertical-align: top;\n",
       "    }\n",
       "\n",
       "    .dataframe thead th {\n",
       "        text-align: right;\n",
       "    }\n",
       "</style>\n",
       "<table border=\"1\" class=\"dataframe\">\n",
       "  <thead>\n",
       "    <tr style=\"text-align: right;\">\n",
       "      <th></th>\n",
       "      <th>P</th>\n",
       "      <th>Q</th>\n",
       "    </tr>\n",
       "  </thead>\n",
       "  <tbody>\n",
       "    <tr>\n",
       "      <th>A</th>\n",
       "      <td>1.114710</td>\n",
       "      <td>0.916701</td>\n",
       "    </tr>\n",
       "    <tr>\n",
       "      <th>B</th>\n",
       "      <td>0.424487</td>\n",
       "      <td>2.476593</td>\n",
       "    </tr>\n",
       "    <tr>\n",
       "      <th>C</th>\n",
       "      <td>-0.868638</td>\n",
       "      <td>-0.939731</td>\n",
       "    </tr>\n",
       "    <tr>\n",
       "      <th>D</th>\n",
       "      <td>-0.963305</td>\n",
       "      <td>-0.145318</td>\n",
       "    </tr>\n",
       "    <tr>\n",
       "      <th>E</th>\n",
       "      <td>-0.155077</td>\n",
       "      <td>-0.272018</td>\n",
       "    </tr>\n",
       "  </tbody>\n",
       "</table>\n",
       "</div>"
      ],
      "text/plain": [
       "          P         Q\n",
       "A  1.114710  0.916701\n",
       "B  0.424487  2.476593\n",
       "C -0.868638 -0.939731\n",
       "D -0.963305 -0.145318\n",
       "E -0.155077 -0.272018"
      ]
     },
     "execution_count": 48,
     "metadata": {},
     "output_type": "execute_result"
    }
   ],
   "source": [
    "df[['P','Q']]"
   ]
  },
  {
   "cell_type": "code",
   "execution_count": 50,
   "metadata": {},
   "outputs": [],
   "source": [
    "df['U'] = df['P'] - df['R']"
   ]
  },
  {
   "cell_type": "code",
   "execution_count": 51,
   "metadata": {},
   "outputs": [
    {
     "data": {
      "text/html": [
       "<div>\n",
       "<style scoped>\n",
       "    .dataframe tbody tr th:only-of-type {\n",
       "        vertical-align: middle;\n",
       "    }\n",
       "\n",
       "    .dataframe tbody tr th {\n",
       "        vertical-align: top;\n",
       "    }\n",
       "\n",
       "    .dataframe thead th {\n",
       "        text-align: right;\n",
       "    }\n",
       "</style>\n",
       "<table border=\"1\" class=\"dataframe\">\n",
       "  <thead>\n",
       "    <tr style=\"text-align: right;\">\n",
       "      <th></th>\n",
       "      <th>P</th>\n",
       "      <th>Q</th>\n",
       "      <th>R</th>\n",
       "      <th>S</th>\n",
       "      <th>T</th>\n",
       "      <th>U</th>\n",
       "    </tr>\n",
       "  </thead>\n",
       "  <tbody>\n",
       "    <tr>\n",
       "      <th>A</th>\n",
       "      <td>1.114710</td>\n",
       "      <td>0.916701</td>\n",
       "      <td>-0.300558</td>\n",
       "      <td>-1.185284</td>\n",
       "      <td>-0.579535</td>\n",
       "      <td>1.415269</td>\n",
       "    </tr>\n",
       "    <tr>\n",
       "      <th>B</th>\n",
       "      <td>0.424487</td>\n",
       "      <td>2.476593</td>\n",
       "      <td>1.359902</td>\n",
       "      <td>0.491821</td>\n",
       "      <td>-0.701030</td>\n",
       "      <td>-0.935415</td>\n",
       "    </tr>\n",
       "    <tr>\n",
       "      <th>C</th>\n",
       "      <td>-0.868638</td>\n",
       "      <td>-0.939731</td>\n",
       "      <td>-1.685714</td>\n",
       "      <td>0.642945</td>\n",
       "      <td>0.535058</td>\n",
       "      <td>0.817076</td>\n",
       "    </tr>\n",
       "    <tr>\n",
       "      <th>D</th>\n",
       "      <td>-0.963305</td>\n",
       "      <td>-0.145318</td>\n",
       "      <td>1.032440</td>\n",
       "      <td>-0.245516</td>\n",
       "      <td>1.270128</td>\n",
       "      <td>-1.995745</td>\n",
       "    </tr>\n",
       "    <tr>\n",
       "      <th>E</th>\n",
       "      <td>-0.155077</td>\n",
       "      <td>-0.272018</td>\n",
       "      <td>0.640651</td>\n",
       "      <td>0.506142</td>\n",
       "      <td>-0.230797</td>\n",
       "      <td>-0.795728</td>\n",
       "    </tr>\n",
       "  </tbody>\n",
       "</table>\n",
       "</div>"
      ],
      "text/plain": [
       "          P         Q         R         S         T         U\n",
       "A  1.114710  0.916701 -0.300558 -1.185284 -0.579535  1.415269\n",
       "B  0.424487  2.476593  1.359902  0.491821 -0.701030 -0.935415\n",
       "C -0.868638 -0.939731 -1.685714  0.642945  0.535058  0.817076\n",
       "D -0.963305 -0.145318  1.032440 -0.245516  1.270128 -1.995745\n",
       "E -0.155077 -0.272018  0.640651  0.506142 -0.230797 -0.795728"
      ]
     },
     "execution_count": 51,
     "metadata": {},
     "output_type": "execute_result"
    }
   ],
   "source": [
    "df"
   ]
  },
  {
   "cell_type": "code",
   "execution_count": 53,
   "metadata": {},
   "outputs": [],
   "source": [
    "df.drop('Q' , axis=1, inplace=True)"
   ]
  },
  {
   "cell_type": "code",
   "execution_count": 54,
   "metadata": {},
   "outputs": [
    {
     "data": {
      "text/html": [
       "<div>\n",
       "<style scoped>\n",
       "    .dataframe tbody tr th:only-of-type {\n",
       "        vertical-align: middle;\n",
       "    }\n",
       "\n",
       "    .dataframe tbody tr th {\n",
       "        vertical-align: top;\n",
       "    }\n",
       "\n",
       "    .dataframe thead th {\n",
       "        text-align: right;\n",
       "    }\n",
       "</style>\n",
       "<table border=\"1\" class=\"dataframe\">\n",
       "  <thead>\n",
       "    <tr style=\"text-align: right;\">\n",
       "      <th></th>\n",
       "      <th>P</th>\n",
       "      <th>R</th>\n",
       "      <th>S</th>\n",
       "      <th>T</th>\n",
       "      <th>U</th>\n",
       "    </tr>\n",
       "  </thead>\n",
       "  <tbody>\n",
       "    <tr>\n",
       "      <th>A</th>\n",
       "      <td>1.114710</td>\n",
       "      <td>-0.300558</td>\n",
       "      <td>-1.185284</td>\n",
       "      <td>-0.579535</td>\n",
       "      <td>1.415269</td>\n",
       "    </tr>\n",
       "    <tr>\n",
       "      <th>B</th>\n",
       "      <td>0.424487</td>\n",
       "      <td>1.359902</td>\n",
       "      <td>0.491821</td>\n",
       "      <td>-0.701030</td>\n",
       "      <td>-0.935415</td>\n",
       "    </tr>\n",
       "    <tr>\n",
       "      <th>C</th>\n",
       "      <td>-0.868638</td>\n",
       "      <td>-1.685714</td>\n",
       "      <td>0.642945</td>\n",
       "      <td>0.535058</td>\n",
       "      <td>0.817076</td>\n",
       "    </tr>\n",
       "    <tr>\n",
       "      <th>D</th>\n",
       "      <td>-0.963305</td>\n",
       "      <td>1.032440</td>\n",
       "      <td>-0.245516</td>\n",
       "      <td>1.270128</td>\n",
       "      <td>-1.995745</td>\n",
       "    </tr>\n",
       "    <tr>\n",
       "      <th>E</th>\n",
       "      <td>-0.155077</td>\n",
       "      <td>0.640651</td>\n",
       "      <td>0.506142</td>\n",
       "      <td>-0.230797</td>\n",
       "      <td>-0.795728</td>\n",
       "    </tr>\n",
       "  </tbody>\n",
       "</table>\n",
       "</div>"
      ],
      "text/plain": [
       "          P         R         S         T         U\n",
       "A  1.114710 -0.300558 -1.185284 -0.579535  1.415269\n",
       "B  0.424487  1.359902  0.491821 -0.701030 -0.935415\n",
       "C -0.868638 -1.685714  0.642945  0.535058  0.817076\n",
       "D -0.963305  1.032440 -0.245516  1.270128 -1.995745\n",
       "E -0.155077  0.640651  0.506142 -0.230797 -0.795728"
      ]
     },
     "execution_count": 54,
     "metadata": {},
     "output_type": "execute_result"
    }
   ],
   "source": [
    "df"
   ]
  },
  {
   "cell_type": "code",
   "execution_count": 55,
   "metadata": {},
   "outputs": [
    {
     "data": {
      "text/html": [
       "<div>\n",
       "<style scoped>\n",
       "    .dataframe tbody tr th:only-of-type {\n",
       "        vertical-align: middle;\n",
       "    }\n",
       "\n",
       "    .dataframe tbody tr th {\n",
       "        vertical-align: top;\n",
       "    }\n",
       "\n",
       "    .dataframe thead th {\n",
       "        text-align: right;\n",
       "    }\n",
       "</style>\n",
       "<table border=\"1\" class=\"dataframe\">\n",
       "  <thead>\n",
       "    <tr style=\"text-align: right;\">\n",
       "      <th></th>\n",
       "      <th>P</th>\n",
       "      <th>R</th>\n",
       "      <th>S</th>\n",
       "      <th>T</th>\n",
       "      <th>U</th>\n",
       "    </tr>\n",
       "  </thead>\n",
       "  <tbody>\n",
       "    <tr>\n",
       "      <th>A</th>\n",
       "      <td>1.114710</td>\n",
       "      <td>-0.300558</td>\n",
       "      <td>-1.185284</td>\n",
       "      <td>-0.579535</td>\n",
       "      <td>1.415269</td>\n",
       "    </tr>\n",
       "    <tr>\n",
       "      <th>B</th>\n",
       "      <td>0.424487</td>\n",
       "      <td>1.359902</td>\n",
       "      <td>0.491821</td>\n",
       "      <td>-0.701030</td>\n",
       "      <td>-0.935415</td>\n",
       "    </tr>\n",
       "    <tr>\n",
       "      <th>D</th>\n",
       "      <td>-0.963305</td>\n",
       "      <td>1.032440</td>\n",
       "      <td>-0.245516</td>\n",
       "      <td>1.270128</td>\n",
       "      <td>-1.995745</td>\n",
       "    </tr>\n",
       "    <tr>\n",
       "      <th>E</th>\n",
       "      <td>-0.155077</td>\n",
       "      <td>0.640651</td>\n",
       "      <td>0.506142</td>\n",
       "      <td>-0.230797</td>\n",
       "      <td>-0.795728</td>\n",
       "    </tr>\n",
       "  </tbody>\n",
       "</table>\n",
       "</div>"
      ],
      "text/plain": [
       "          P         R         S         T         U\n",
       "A  1.114710 -0.300558 -1.185284 -0.579535  1.415269\n",
       "B  0.424487  1.359902  0.491821 -0.701030 -0.935415\n",
       "D -0.963305  1.032440 -0.245516  1.270128 -1.995745\n",
       "E -0.155077  0.640651  0.506142 -0.230797 -0.795728"
      ]
     },
     "execution_count": 55,
     "metadata": {},
     "output_type": "execute_result"
    }
   ],
   "source": [
    "df.drop('C',axis=0)"
   ]
  },
  {
   "cell_type": "code",
   "execution_count": 56,
   "metadata": {},
   "outputs": [
    {
     "data": {
      "text/html": [
       "<div>\n",
       "<style scoped>\n",
       "    .dataframe tbody tr th:only-of-type {\n",
       "        vertical-align: middle;\n",
       "    }\n",
       "\n",
       "    .dataframe tbody tr th {\n",
       "        vertical-align: top;\n",
       "    }\n",
       "\n",
       "    .dataframe thead th {\n",
       "        text-align: right;\n",
       "    }\n",
       "</style>\n",
       "<table border=\"1\" class=\"dataframe\">\n",
       "  <thead>\n",
       "    <tr style=\"text-align: right;\">\n",
       "      <th></th>\n",
       "      <th>P</th>\n",
       "      <th>R</th>\n",
       "      <th>S</th>\n",
       "      <th>T</th>\n",
       "      <th>U</th>\n",
       "    </tr>\n",
       "  </thead>\n",
       "  <tbody>\n",
       "    <tr>\n",
       "      <th>A</th>\n",
       "      <td>1.114710</td>\n",
       "      <td>-0.300558</td>\n",
       "      <td>-1.185284</td>\n",
       "      <td>-0.579535</td>\n",
       "      <td>1.415269</td>\n",
       "    </tr>\n",
       "    <tr>\n",
       "      <th>B</th>\n",
       "      <td>0.424487</td>\n",
       "      <td>1.359902</td>\n",
       "      <td>0.491821</td>\n",
       "      <td>-0.701030</td>\n",
       "      <td>-0.935415</td>\n",
       "    </tr>\n",
       "    <tr>\n",
       "      <th>C</th>\n",
       "      <td>-0.868638</td>\n",
       "      <td>-1.685714</td>\n",
       "      <td>0.642945</td>\n",
       "      <td>0.535058</td>\n",
       "      <td>0.817076</td>\n",
       "    </tr>\n",
       "    <tr>\n",
       "      <th>D</th>\n",
       "      <td>-0.963305</td>\n",
       "      <td>1.032440</td>\n",
       "      <td>-0.245516</td>\n",
       "      <td>1.270128</td>\n",
       "      <td>-1.995745</td>\n",
       "    </tr>\n",
       "    <tr>\n",
       "      <th>E</th>\n",
       "      <td>-0.155077</td>\n",
       "      <td>0.640651</td>\n",
       "      <td>0.506142</td>\n",
       "      <td>-0.230797</td>\n",
       "      <td>-0.795728</td>\n",
       "    </tr>\n",
       "  </tbody>\n",
       "</table>\n",
       "</div>"
      ],
      "text/plain": [
       "          P         R         S         T         U\n",
       "A  1.114710 -0.300558 -1.185284 -0.579535  1.415269\n",
       "B  0.424487  1.359902  0.491821 -0.701030 -0.935415\n",
       "C -0.868638 -1.685714  0.642945  0.535058  0.817076\n",
       "D -0.963305  1.032440 -0.245516  1.270128 -1.995745\n",
       "E -0.155077  0.640651  0.506142 -0.230797 -0.795728"
      ]
     },
     "execution_count": 56,
     "metadata": {},
     "output_type": "execute_result"
    }
   ],
   "source": [
    "df"
   ]
  },
  {
   "cell_type": "code",
   "execution_count": 64,
   "metadata": {},
   "outputs": [
    {
     "data": {
      "text/html": [
       "<div>\n",
       "<style scoped>\n",
       "    .dataframe tbody tr th:only-of-type {\n",
       "        vertical-align: middle;\n",
       "    }\n",
       "\n",
       "    .dataframe tbody tr th {\n",
       "        vertical-align: top;\n",
       "    }\n",
       "\n",
       "    .dataframe thead th {\n",
       "        text-align: right;\n",
       "    }\n",
       "</style>\n",
       "<table border=\"1\" class=\"dataframe\">\n",
       "  <thead>\n",
       "    <tr style=\"text-align: right;\">\n",
       "      <th></th>\n",
       "      <th>P</th>\n",
       "      <th>R</th>\n",
       "    </tr>\n",
       "  </thead>\n",
       "  <tbody>\n",
       "    <tr>\n",
       "      <th>B</th>\n",
       "      <td>0.424487</td>\n",
       "      <td>1.359902</td>\n",
       "    </tr>\n",
       "  </tbody>\n",
       "</table>\n",
       "</div>"
      ],
      "text/plain": [
       "          P         R\n",
       "B  0.424487  1.359902"
      ]
     },
     "execution_count": 64,
     "metadata": {},
     "output_type": "execute_result"
    }
   ],
   "source": [
    "df[(df['P']>0) & (df['R']>0)][['P','R']]"
   ]
  },
  {
   "cell_type": "code",
   "execution_count": 65,
   "metadata": {},
   "outputs": [
    {
     "data": {
      "text/html": [
       "<div>\n",
       "<style scoped>\n",
       "    .dataframe tbody tr th:only-of-type {\n",
       "        vertical-align: middle;\n",
       "    }\n",
       "\n",
       "    .dataframe tbody tr th {\n",
       "        vertical-align: top;\n",
       "    }\n",
       "\n",
       "    .dataframe thead th {\n",
       "        text-align: right;\n",
       "    }\n",
       "</style>\n",
       "<table border=\"1\" class=\"dataframe\">\n",
       "  <thead>\n",
       "    <tr style=\"text-align: right;\">\n",
       "      <th></th>\n",
       "      <th>index</th>\n",
       "      <th>P</th>\n",
       "      <th>R</th>\n",
       "      <th>S</th>\n",
       "      <th>T</th>\n",
       "      <th>U</th>\n",
       "    </tr>\n",
       "  </thead>\n",
       "  <tbody>\n",
       "    <tr>\n",
       "      <th>0</th>\n",
       "      <td>A</td>\n",
       "      <td>1.114710</td>\n",
       "      <td>-0.300558</td>\n",
       "      <td>-1.185284</td>\n",
       "      <td>-0.579535</td>\n",
       "      <td>1.415269</td>\n",
       "    </tr>\n",
       "    <tr>\n",
       "      <th>1</th>\n",
       "      <td>B</td>\n",
       "      <td>0.424487</td>\n",
       "      <td>1.359902</td>\n",
       "      <td>0.491821</td>\n",
       "      <td>-0.701030</td>\n",
       "      <td>-0.935415</td>\n",
       "    </tr>\n",
       "    <tr>\n",
       "      <th>2</th>\n",
       "      <td>C</td>\n",
       "      <td>-0.868638</td>\n",
       "      <td>-1.685714</td>\n",
       "      <td>0.642945</td>\n",
       "      <td>0.535058</td>\n",
       "      <td>0.817076</td>\n",
       "    </tr>\n",
       "    <tr>\n",
       "      <th>3</th>\n",
       "      <td>D</td>\n",
       "      <td>-0.963305</td>\n",
       "      <td>1.032440</td>\n",
       "      <td>-0.245516</td>\n",
       "      <td>1.270128</td>\n",
       "      <td>-1.995745</td>\n",
       "    </tr>\n",
       "    <tr>\n",
       "      <th>4</th>\n",
       "      <td>E</td>\n",
       "      <td>-0.155077</td>\n",
       "      <td>0.640651</td>\n",
       "      <td>0.506142</td>\n",
       "      <td>-0.230797</td>\n",
       "      <td>-0.795728</td>\n",
       "    </tr>\n",
       "  </tbody>\n",
       "</table>\n",
       "</div>"
      ],
      "text/plain": [
       "  index         P         R         S         T         U\n",
       "0     A  1.114710 -0.300558 -1.185284 -0.579535  1.415269\n",
       "1     B  0.424487  1.359902  0.491821 -0.701030 -0.935415\n",
       "2     C -0.868638 -1.685714  0.642945  0.535058  0.817076\n",
       "3     D -0.963305  1.032440 -0.245516  1.270128 -1.995745\n",
       "4     E -0.155077  0.640651  0.506142 -0.230797 -0.795728"
      ]
     },
     "execution_count": 65,
     "metadata": {},
     "output_type": "execute_result"
    }
   ],
   "source": [
    "df.reset_index()"
   ]
  },
  {
   "cell_type": "code",
   "execution_count": 66,
   "metadata": {},
   "outputs": [
    {
     "data": {
      "text/html": [
       "<div>\n",
       "<style scoped>\n",
       "    .dataframe tbody tr th:only-of-type {\n",
       "        vertical-align: middle;\n",
       "    }\n",
       "\n",
       "    .dataframe tbody tr th {\n",
       "        vertical-align: top;\n",
       "    }\n",
       "\n",
       "    .dataframe thead th {\n",
       "        text-align: right;\n",
       "    }\n",
       "</style>\n",
       "<table border=\"1\" class=\"dataframe\">\n",
       "  <thead>\n",
       "    <tr style=\"text-align: right;\">\n",
       "      <th></th>\n",
       "      <th>P</th>\n",
       "      <th>R</th>\n",
       "      <th>S</th>\n",
       "      <th>T</th>\n",
       "      <th>U</th>\n",
       "    </tr>\n",
       "  </thead>\n",
       "  <tbody>\n",
       "    <tr>\n",
       "      <th>A</th>\n",
       "      <td>1.114710</td>\n",
       "      <td>-0.300558</td>\n",
       "      <td>-1.185284</td>\n",
       "      <td>-0.579535</td>\n",
       "      <td>1.415269</td>\n",
       "    </tr>\n",
       "    <tr>\n",
       "      <th>B</th>\n",
       "      <td>0.424487</td>\n",
       "      <td>1.359902</td>\n",
       "      <td>0.491821</td>\n",
       "      <td>-0.701030</td>\n",
       "      <td>-0.935415</td>\n",
       "    </tr>\n",
       "    <tr>\n",
       "      <th>C</th>\n",
       "      <td>-0.868638</td>\n",
       "      <td>-1.685714</td>\n",
       "      <td>0.642945</td>\n",
       "      <td>0.535058</td>\n",
       "      <td>0.817076</td>\n",
       "    </tr>\n",
       "    <tr>\n",
       "      <th>D</th>\n",
       "      <td>-0.963305</td>\n",
       "      <td>1.032440</td>\n",
       "      <td>-0.245516</td>\n",
       "      <td>1.270128</td>\n",
       "      <td>-1.995745</td>\n",
       "    </tr>\n",
       "    <tr>\n",
       "      <th>E</th>\n",
       "      <td>-0.155077</td>\n",
       "      <td>0.640651</td>\n",
       "      <td>0.506142</td>\n",
       "      <td>-0.230797</td>\n",
       "      <td>-0.795728</td>\n",
       "    </tr>\n",
       "  </tbody>\n",
       "</table>\n",
       "</div>"
      ],
      "text/plain": [
       "          P         R         S         T         U\n",
       "A  1.114710 -0.300558 -1.185284 -0.579535  1.415269\n",
       "B  0.424487  1.359902  0.491821 -0.701030 -0.935415\n",
       "C -0.868638 -1.685714  0.642945  0.535058  0.817076\n",
       "D -0.963305  1.032440 -0.245516  1.270128 -1.995745\n",
       "E -0.155077  0.640651  0.506142 -0.230797 -0.795728"
      ]
     },
     "execution_count": 66,
     "metadata": {},
     "output_type": "execute_result"
    }
   ],
   "source": [
    "df"
   ]
  },
  {
   "cell_type": "code",
   "execution_count": 67,
   "metadata": {},
   "outputs": [],
   "source": [
    "df['H'] = [1,2,3,4,5]"
   ]
  },
  {
   "cell_type": "code",
   "execution_count": 68,
   "metadata": {},
   "outputs": [
    {
     "data": {
      "text/html": [
       "<div>\n",
       "<style scoped>\n",
       "    .dataframe tbody tr th:only-of-type {\n",
       "        vertical-align: middle;\n",
       "    }\n",
       "\n",
       "    .dataframe tbody tr th {\n",
       "        vertical-align: top;\n",
       "    }\n",
       "\n",
       "    .dataframe thead th {\n",
       "        text-align: right;\n",
       "    }\n",
       "</style>\n",
       "<table border=\"1\" class=\"dataframe\">\n",
       "  <thead>\n",
       "    <tr style=\"text-align: right;\">\n",
       "      <th></th>\n",
       "      <th>P</th>\n",
       "      <th>R</th>\n",
       "      <th>S</th>\n",
       "      <th>T</th>\n",
       "      <th>U</th>\n",
       "      <th>H</th>\n",
       "    </tr>\n",
       "  </thead>\n",
       "  <tbody>\n",
       "    <tr>\n",
       "      <th>A</th>\n",
       "      <td>1.114710</td>\n",
       "      <td>-0.300558</td>\n",
       "      <td>-1.185284</td>\n",
       "      <td>-0.579535</td>\n",
       "      <td>1.415269</td>\n",
       "      <td>1</td>\n",
       "    </tr>\n",
       "    <tr>\n",
       "      <th>B</th>\n",
       "      <td>0.424487</td>\n",
       "      <td>1.359902</td>\n",
       "      <td>0.491821</td>\n",
       "      <td>-0.701030</td>\n",
       "      <td>-0.935415</td>\n",
       "      <td>2</td>\n",
       "    </tr>\n",
       "    <tr>\n",
       "      <th>C</th>\n",
       "      <td>-0.868638</td>\n",
       "      <td>-1.685714</td>\n",
       "      <td>0.642945</td>\n",
       "      <td>0.535058</td>\n",
       "      <td>0.817076</td>\n",
       "      <td>3</td>\n",
       "    </tr>\n",
       "    <tr>\n",
       "      <th>D</th>\n",
       "      <td>-0.963305</td>\n",
       "      <td>1.032440</td>\n",
       "      <td>-0.245516</td>\n",
       "      <td>1.270128</td>\n",
       "      <td>-1.995745</td>\n",
       "      <td>4</td>\n",
       "    </tr>\n",
       "    <tr>\n",
       "      <th>E</th>\n",
       "      <td>-0.155077</td>\n",
       "      <td>0.640651</td>\n",
       "      <td>0.506142</td>\n",
       "      <td>-0.230797</td>\n",
       "      <td>-0.795728</td>\n",
       "      <td>5</td>\n",
       "    </tr>\n",
       "  </tbody>\n",
       "</table>\n",
       "</div>"
      ],
      "text/plain": [
       "          P         R         S         T         U  H\n",
       "A  1.114710 -0.300558 -1.185284 -0.579535  1.415269  1\n",
       "B  0.424487  1.359902  0.491821 -0.701030 -0.935415  2\n",
       "C -0.868638 -1.685714  0.642945  0.535058  0.817076  3\n",
       "D -0.963305  1.032440 -0.245516  1.270128 -1.995745  4\n",
       "E -0.155077  0.640651  0.506142 -0.230797 -0.795728  5"
      ]
     },
     "execution_count": 68,
     "metadata": {},
     "output_type": "execute_result"
    }
   ],
   "source": [
    "df"
   ]
  },
  {
   "cell_type": "code",
   "execution_count": null,
   "metadata": {},
   "outputs": [],
   "source": []
  }
 ],
 "metadata": {
  "kernelspec": {
   "display_name": "Python 3.10.4 64-bit",
   "language": "python",
   "name": "python3"
  },
  "language_info": {
   "codemirror_mode": {
    "name": "ipython",
    "version": 3
   },
   "file_extension": ".py",
   "mimetype": "text/x-python",
   "name": "python",
   "nbconvert_exporter": "python",
   "pygments_lexer": "ipython3",
   "version": "3.10.4"
  },
  "orig_nbformat": 4,
  "vscode": {
   "interpreter": {
    "hash": "a17e23e691a3fd027880c3dc5b55898c6632aeecdd31999b9d6ddbe3b33ac9fd"
   }
  }
 },
 "nbformat": 4,
 "nbformat_minor": 2
}
