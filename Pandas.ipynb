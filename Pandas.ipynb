{
 "cells": [
  {
   "cell_type": "code",
   "execution_count": 1,
   "metadata": {},
   "outputs": [],
   "source": [
    "import pandas as pd\n",
    "import numpy as np"
   ]
  },
  {
   "cell_type": "code",
   "execution_count": 2,
   "metadata": {},
   "outputs": [],
   "source": [
    "lst = ['w','e','r']"
   ]
  },
  {
   "cell_type": "code",
   "execution_count": 3,
   "metadata": {},
   "outputs": [
    {
     "data": {
      "text/plain": [
       "0    w\n",
       "1    e\n",
       "2    r\n",
       "dtype: object"
      ]
     },
     "execution_count": 3,
     "metadata": {},
     "output_type": "execute_result"
    }
   ],
   "source": [
    "pd.Series(lst) "
   ]
  },
  {
   "cell_type": "code",
   "execution_count": 4,
   "metadata": {},
   "outputs": [],
   "source": [
    "lst2 = ['a','s','d']"
   ]
  },
  {
   "cell_type": "code",
   "execution_count": 5,
   "metadata": {},
   "outputs": [
    {
     "data": {
      "text/plain": [
       "a    w\n",
       "s    e\n",
       "d    r\n",
       "dtype: object"
      ]
     },
     "execution_count": 5,
     "metadata": {},
     "output_type": "execute_result"
    }
   ],
   "source": [
    "pd.Series(data=lst,index = lst2)"
   ]
  },
  {
   "cell_type": "code",
   "execution_count": 6,
   "metadata": {},
   "outputs": [],
   "source": [
    "d = {'a':'l','b':'W','c':'M'}"
   ]
  },
  {
   "cell_type": "code",
   "execution_count": 7,
   "metadata": {},
   "outputs": [
    {
     "data": {
      "text/plain": [
       "a    l\n",
       "b    W\n",
       "c    M\n",
       "dtype: object"
      ]
     },
     "execution_count": 7,
     "metadata": {},
     "output_type": "execute_result"
    }
   ],
   "source": [
    "pd.Series(d)"
   ]
  },
  {
   "cell_type": "code",
   "execution_count": 10,
   "metadata": {},
   "outputs": [],
   "source": [
    "s1 = pd.Series(CFC, index=[1,2,3,4])"
   ]
  },
  {
   "cell_type": "code",
   "execution_count": 9,
   "metadata": {},
   "outputs": [],
   "source": [
    "CFC = ['dhoni','kholi','anderson','morgan']"
   ]
  },
  {
   "cell_type": "code",
   "execution_count": 11,
   "metadata": {},
   "outputs": [
    {
     "data": {
      "text/plain": [
       "1       dhoni\n",
       "2       kholi\n",
       "3    anderson\n",
       "4      morgan\n",
       "dtype: object"
      ]
     },
     "execution_count": 11,
     "metadata": {},
     "output_type": "execute_result"
    }
   ],
   "source": [
    "s1"
   ]
  },
  {
   "cell_type": "code",
   "execution_count": 12,
   "metadata": {},
   "outputs": [
    {
     "ename": "NameError",
     "evalue": "name 'avg' is not defined",
     "output_type": "error",
     "traceback": [
      "\u001b[1;31m---------------------------------------------------------------------------\u001b[0m",
      "\u001b[1;31mNameError\u001b[0m                                 Traceback (most recent call last)",
      "\u001b[1;32mc:\\Users\\Pravin P B\\Documents\\GitHub\\iQube\\Pandas.ipynb Cell 11'\u001b[0m in \u001b[0;36m<cell line: 1>\u001b[1;34m()\u001b[0m\n\u001b[1;32m----> <a href='vscode-notebook-cell:/c%3A/Users/Pravin%20P%20B/Documents/GitHub/iQube/Pandas.ipynb#ch0000010?line=0'>1</a>\u001b[0m s2 \u001b[39m=\u001b[39m pd\u001b[39m.\u001b[39mSeries(avg)\n",
      "\u001b[1;31mNameError\u001b[0m: name 'avg' is not defined"
     ]
    }
   ],
   "source": [
    "s2 = pd.Series(avg)"
   ]
  },
  {
   "cell_type": "code",
   "execution_count": 13,
   "metadata": {},
   "outputs": [],
   "source": [
    "avg = ['iron','caption','thor','thor']"
   ]
  },
  {
   "cell_type": "code",
   "execution_count": 14,
   "metadata": {},
   "outputs": [
    {
     "ename": "NameError",
     "evalue": "name 's2' is not defined",
     "output_type": "error",
     "traceback": [
      "\u001b[1;31m---------------------------------------------------------------------------\u001b[0m",
      "\u001b[1;31mNameError\u001b[0m                                 Traceback (most recent call last)",
      "\u001b[1;32mc:\\Users\\Pravin P B\\Documents\\GitHub\\iQube\\Pandas.ipynb Cell 13'\u001b[0m in \u001b[0;36m<cell line: 1>\u001b[1;34m()\u001b[0m\n\u001b[1;32m----> <a href='vscode-notebook-cell:/c%3A/Users/Pravin%20P%20B/Documents/GitHub/iQube/Pandas.ipynb#ch0000012?line=0'>1</a>\u001b[0m s2\n",
      "\u001b[1;31mNameError\u001b[0m: name 's2' is not defined"
     ]
    }
   ],
   "source": [
    "s2"
   ]
  },
  {
   "cell_type": "code",
   "execution_count": 15,
   "metadata": {},
   "outputs": [],
   "source": [
    "seri1 = pd.Series([1,2,3,4],index=['summa','Germany','USSR','Japan'])"
   ]
  },
  {
   "cell_type": "code",
   "execution_count": 16,
   "metadata": {},
   "outputs": [],
   "source": [
    "seri2 = pd.Series([5,4,6,4],index=['USSR','Japan','Usa','Germany'])"
   ]
  },
  {
   "cell_type": "code",
   "execution_count": 17,
   "metadata": {},
   "outputs": [
    {
     "data": {
      "text/plain": [
       "summa      1\n",
       "Germany    2\n",
       "USSR       3\n",
       "Japan      4\n",
       "dtype: int64"
      ]
     },
     "execution_count": 17,
     "metadata": {},
     "output_type": "execute_result"
    }
   ],
   "source": [
    "seri1"
   ]
  },
  {
   "cell_type": "code",
   "execution_count": 18,
   "metadata": {},
   "outputs": [
    {
     "data": {
      "text/plain": [
       "USSR       5\n",
       "Japan      4\n",
       "Usa        6\n",
       "Germany    4\n",
       "dtype: int64"
      ]
     },
     "execution_count": 18,
     "metadata": {},
     "output_type": "execute_result"
    }
   ],
   "source": [
    "seri2"
   ]
  },
  {
   "cell_type": "code",
   "execution_count": 19,
   "metadata": {},
   "outputs": [
    {
     "data": {
      "text/plain": [
       "Germany    6.0\n",
       "Japan      8.0\n",
       "USSR       8.0\n",
       "Usa        NaN\n",
       "summa      NaN\n",
       "dtype: float64"
      ]
     },
     "execution_count": 19,
     "metadata": {},
     "output_type": "execute_result"
    }
   ],
   "source": [
    "seri1 + seri2"
   ]
  },
  {
   "cell_type": "code",
   "execution_count": 20,
   "metadata": {},
   "outputs": [],
   "source": [
    "from numpy.random import randn"
   ]
  },
  {
   "cell_type": "code",
   "execution_count": 21,
   "metadata": {},
   "outputs": [],
   "source": [
    "df = pd.DataFrame(randn(5,5),index='A B C D E'.split(), columns='P Q R S T'.split())"
   ]
  },
  {
   "cell_type": "code",
   "execution_count": 22,
   "metadata": {},
   "outputs": [
    {
     "data": {
      "text/html": [
       "<div>\n",
       "<style scoped>\n",
       "    .dataframe tbody tr th:only-of-type {\n",
       "        vertical-align: middle;\n",
       "    }\n",
       "\n",
       "    .dataframe tbody tr th {\n",
       "        vertical-align: top;\n",
       "    }\n",
       "\n",
       "    .dataframe thead th {\n",
       "        text-align: right;\n",
       "    }\n",
       "</style>\n",
       "<table border=\"1\" class=\"dataframe\">\n",
       "  <thead>\n",
       "    <tr style=\"text-align: right;\">\n",
       "      <th></th>\n",
       "      <th>P</th>\n",
       "      <th>Q</th>\n",
       "    </tr>\n",
       "  </thead>\n",
       "  <tbody>\n",
       "    <tr>\n",
       "      <th>A</th>\n",
       "      <td>0.321191</td>\n",
       "      <td>0.243618</td>\n",
       "    </tr>\n",
       "    <tr>\n",
       "      <th>B</th>\n",
       "      <td>0.262991</td>\n",
       "      <td>-0.361682</td>\n",
       "    </tr>\n",
       "    <tr>\n",
       "      <th>C</th>\n",
       "      <td>-1.038749</td>\n",
       "      <td>-0.883104</td>\n",
       "    </tr>\n",
       "    <tr>\n",
       "      <th>D</th>\n",
       "      <td>-0.516557</td>\n",
       "      <td>0.695270</td>\n",
       "    </tr>\n",
       "    <tr>\n",
       "      <th>E</th>\n",
       "      <td>-0.104991</td>\n",
       "      <td>-2.356339</td>\n",
       "    </tr>\n",
       "  </tbody>\n",
       "</table>\n",
       "</div>"
      ],
      "text/plain": [
       "          P         Q\n",
       "A  0.321191  0.243618\n",
       "B  0.262991 -0.361682\n",
       "C -1.038749 -0.883104\n",
       "D -0.516557  0.695270\n",
       "E -0.104991 -2.356339"
      ]
     },
     "execution_count": 22,
     "metadata": {},
     "output_type": "execute_result"
    }
   ],
   "source": [
    "df[['P','Q']]"
   ]
  },
  {
   "cell_type": "code",
   "execution_count": 23,
   "metadata": {},
   "outputs": [],
   "source": [
    "df['U'] = df['P'] - df['R']"
   ]
  },
  {
   "cell_type": "code",
   "execution_count": 24,
   "metadata": {},
   "outputs": [
    {
     "data": {
      "text/html": [
       "<div>\n",
       "<style scoped>\n",
       "    .dataframe tbody tr th:only-of-type {\n",
       "        vertical-align: middle;\n",
       "    }\n",
       "\n",
       "    .dataframe tbody tr th {\n",
       "        vertical-align: top;\n",
       "    }\n",
       "\n",
       "    .dataframe thead th {\n",
       "        text-align: right;\n",
       "    }\n",
       "</style>\n",
       "<table border=\"1\" class=\"dataframe\">\n",
       "  <thead>\n",
       "    <tr style=\"text-align: right;\">\n",
       "      <th></th>\n",
       "      <th>P</th>\n",
       "      <th>Q</th>\n",
       "      <th>R</th>\n",
       "      <th>S</th>\n",
       "      <th>T</th>\n",
       "      <th>U</th>\n",
       "    </tr>\n",
       "  </thead>\n",
       "  <tbody>\n",
       "    <tr>\n",
       "      <th>A</th>\n",
       "      <td>0.321191</td>\n",
       "      <td>0.243618</td>\n",
       "      <td>-0.321610</td>\n",
       "      <td>-0.866797</td>\n",
       "      <td>-0.405498</td>\n",
       "      <td>0.642801</td>\n",
       "    </tr>\n",
       "    <tr>\n",
       "      <th>B</th>\n",
       "      <td>0.262991</td>\n",
       "      <td>-0.361682</td>\n",
       "      <td>-1.068605</td>\n",
       "      <td>0.461694</td>\n",
       "      <td>-0.638045</td>\n",
       "      <td>1.331595</td>\n",
       "    </tr>\n",
       "    <tr>\n",
       "      <th>C</th>\n",
       "      <td>-1.038749</td>\n",
       "      <td>-0.883104</td>\n",
       "      <td>0.543688</td>\n",
       "      <td>0.962973</td>\n",
       "      <td>-1.307535</td>\n",
       "      <td>-1.582437</td>\n",
       "    </tr>\n",
       "    <tr>\n",
       "      <th>D</th>\n",
       "      <td>-0.516557</td>\n",
       "      <td>0.695270</td>\n",
       "      <td>0.918328</td>\n",
       "      <td>-1.516117</td>\n",
       "      <td>-0.215771</td>\n",
       "      <td>-1.434885</td>\n",
       "    </tr>\n",
       "    <tr>\n",
       "      <th>E</th>\n",
       "      <td>-0.104991</td>\n",
       "      <td>-2.356339</td>\n",
       "      <td>0.340142</td>\n",
       "      <td>-0.702132</td>\n",
       "      <td>0.366965</td>\n",
       "      <td>-0.445133</td>\n",
       "    </tr>\n",
       "  </tbody>\n",
       "</table>\n",
       "</div>"
      ],
      "text/plain": [
       "          P         Q         R         S         T         U\n",
       "A  0.321191  0.243618 -0.321610 -0.866797 -0.405498  0.642801\n",
       "B  0.262991 -0.361682 -1.068605  0.461694 -0.638045  1.331595\n",
       "C -1.038749 -0.883104  0.543688  0.962973 -1.307535 -1.582437\n",
       "D -0.516557  0.695270  0.918328 -1.516117 -0.215771 -1.434885\n",
       "E -0.104991 -2.356339  0.340142 -0.702132  0.366965 -0.445133"
      ]
     },
     "execution_count": 24,
     "metadata": {},
     "output_type": "execute_result"
    }
   ],
   "source": [
    "df"
   ]
  },
  {
   "cell_type": "code",
   "execution_count": 25,
   "metadata": {},
   "outputs": [],
   "source": [
    "df.drop('Q' , axis=1, inplace=True)"
   ]
  },
  {
   "cell_type": "code",
   "execution_count": 26,
   "metadata": {},
   "outputs": [
    {
     "data": {
      "text/html": [
       "<div>\n",
       "<style scoped>\n",
       "    .dataframe tbody tr th:only-of-type {\n",
       "        vertical-align: middle;\n",
       "    }\n",
       "\n",
       "    .dataframe tbody tr th {\n",
       "        vertical-align: top;\n",
       "    }\n",
       "\n",
       "    .dataframe thead th {\n",
       "        text-align: right;\n",
       "    }\n",
       "</style>\n",
       "<table border=\"1\" class=\"dataframe\">\n",
       "  <thead>\n",
       "    <tr style=\"text-align: right;\">\n",
       "      <th></th>\n",
       "      <th>P</th>\n",
       "      <th>R</th>\n",
       "      <th>S</th>\n",
       "      <th>T</th>\n",
       "      <th>U</th>\n",
       "    </tr>\n",
       "  </thead>\n",
       "  <tbody>\n",
       "    <tr>\n",
       "      <th>A</th>\n",
       "      <td>0.321191</td>\n",
       "      <td>-0.321610</td>\n",
       "      <td>-0.866797</td>\n",
       "      <td>-0.405498</td>\n",
       "      <td>0.642801</td>\n",
       "    </tr>\n",
       "    <tr>\n",
       "      <th>B</th>\n",
       "      <td>0.262991</td>\n",
       "      <td>-1.068605</td>\n",
       "      <td>0.461694</td>\n",
       "      <td>-0.638045</td>\n",
       "      <td>1.331595</td>\n",
       "    </tr>\n",
       "    <tr>\n",
       "      <th>C</th>\n",
       "      <td>-1.038749</td>\n",
       "      <td>0.543688</td>\n",
       "      <td>0.962973</td>\n",
       "      <td>-1.307535</td>\n",
       "      <td>-1.582437</td>\n",
       "    </tr>\n",
       "    <tr>\n",
       "      <th>D</th>\n",
       "      <td>-0.516557</td>\n",
       "      <td>0.918328</td>\n",
       "      <td>-1.516117</td>\n",
       "      <td>-0.215771</td>\n",
       "      <td>-1.434885</td>\n",
       "    </tr>\n",
       "    <tr>\n",
       "      <th>E</th>\n",
       "      <td>-0.104991</td>\n",
       "      <td>0.340142</td>\n",
       "      <td>-0.702132</td>\n",
       "      <td>0.366965</td>\n",
       "      <td>-0.445133</td>\n",
       "    </tr>\n",
       "  </tbody>\n",
       "</table>\n",
       "</div>"
      ],
      "text/plain": [
       "          P         R         S         T         U\n",
       "A  0.321191 -0.321610 -0.866797 -0.405498  0.642801\n",
       "B  0.262991 -1.068605  0.461694 -0.638045  1.331595\n",
       "C -1.038749  0.543688  0.962973 -1.307535 -1.582437\n",
       "D -0.516557  0.918328 -1.516117 -0.215771 -1.434885\n",
       "E -0.104991  0.340142 -0.702132  0.366965 -0.445133"
      ]
     },
     "execution_count": 26,
     "metadata": {},
     "output_type": "execute_result"
    }
   ],
   "source": [
    "df"
   ]
  },
  {
   "cell_type": "code",
   "execution_count": 27,
   "metadata": {},
   "outputs": [
    {
     "data": {
      "text/html": [
       "<div>\n",
       "<style scoped>\n",
       "    .dataframe tbody tr th:only-of-type {\n",
       "        vertical-align: middle;\n",
       "    }\n",
       "\n",
       "    .dataframe tbody tr th {\n",
       "        vertical-align: top;\n",
       "    }\n",
       "\n",
       "    .dataframe thead th {\n",
       "        text-align: right;\n",
       "    }\n",
       "</style>\n",
       "<table border=\"1\" class=\"dataframe\">\n",
       "  <thead>\n",
       "    <tr style=\"text-align: right;\">\n",
       "      <th></th>\n",
       "      <th>P</th>\n",
       "      <th>R</th>\n",
       "      <th>S</th>\n",
       "      <th>T</th>\n",
       "      <th>U</th>\n",
       "    </tr>\n",
       "  </thead>\n",
       "  <tbody>\n",
       "    <tr>\n",
       "      <th>A</th>\n",
       "      <td>0.321191</td>\n",
       "      <td>-0.321610</td>\n",
       "      <td>-0.866797</td>\n",
       "      <td>-0.405498</td>\n",
       "      <td>0.642801</td>\n",
       "    </tr>\n",
       "    <tr>\n",
       "      <th>B</th>\n",
       "      <td>0.262991</td>\n",
       "      <td>-1.068605</td>\n",
       "      <td>0.461694</td>\n",
       "      <td>-0.638045</td>\n",
       "      <td>1.331595</td>\n",
       "    </tr>\n",
       "    <tr>\n",
       "      <th>D</th>\n",
       "      <td>-0.516557</td>\n",
       "      <td>0.918328</td>\n",
       "      <td>-1.516117</td>\n",
       "      <td>-0.215771</td>\n",
       "      <td>-1.434885</td>\n",
       "    </tr>\n",
       "    <tr>\n",
       "      <th>E</th>\n",
       "      <td>-0.104991</td>\n",
       "      <td>0.340142</td>\n",
       "      <td>-0.702132</td>\n",
       "      <td>0.366965</td>\n",
       "      <td>-0.445133</td>\n",
       "    </tr>\n",
       "  </tbody>\n",
       "</table>\n",
       "</div>"
      ],
      "text/plain": [
       "          P         R         S         T         U\n",
       "A  0.321191 -0.321610 -0.866797 -0.405498  0.642801\n",
       "B  0.262991 -1.068605  0.461694 -0.638045  1.331595\n",
       "D -0.516557  0.918328 -1.516117 -0.215771 -1.434885\n",
       "E -0.104991  0.340142 -0.702132  0.366965 -0.445133"
      ]
     },
     "execution_count": 27,
     "metadata": {},
     "output_type": "execute_result"
    }
   ],
   "source": [
    "df.drop('C',axis=0)"
   ]
  },
  {
   "cell_type": "code",
   "execution_count": 28,
   "metadata": {},
   "outputs": [
    {
     "data": {
      "text/html": [
       "<div>\n",
       "<style scoped>\n",
       "    .dataframe tbody tr th:only-of-type {\n",
       "        vertical-align: middle;\n",
       "    }\n",
       "\n",
       "    .dataframe tbody tr th {\n",
       "        vertical-align: top;\n",
       "    }\n",
       "\n",
       "    .dataframe thead th {\n",
       "        text-align: right;\n",
       "    }\n",
       "</style>\n",
       "<table border=\"1\" class=\"dataframe\">\n",
       "  <thead>\n",
       "    <tr style=\"text-align: right;\">\n",
       "      <th></th>\n",
       "      <th>P</th>\n",
       "      <th>R</th>\n",
       "      <th>S</th>\n",
       "      <th>T</th>\n",
       "      <th>U</th>\n",
       "    </tr>\n",
       "  </thead>\n",
       "  <tbody>\n",
       "    <tr>\n",
       "      <th>A</th>\n",
       "      <td>0.321191</td>\n",
       "      <td>-0.321610</td>\n",
       "      <td>-0.866797</td>\n",
       "      <td>-0.405498</td>\n",
       "      <td>0.642801</td>\n",
       "    </tr>\n",
       "    <tr>\n",
       "      <th>B</th>\n",
       "      <td>0.262991</td>\n",
       "      <td>-1.068605</td>\n",
       "      <td>0.461694</td>\n",
       "      <td>-0.638045</td>\n",
       "      <td>1.331595</td>\n",
       "    </tr>\n",
       "    <tr>\n",
       "      <th>C</th>\n",
       "      <td>-1.038749</td>\n",
       "      <td>0.543688</td>\n",
       "      <td>0.962973</td>\n",
       "      <td>-1.307535</td>\n",
       "      <td>-1.582437</td>\n",
       "    </tr>\n",
       "    <tr>\n",
       "      <th>D</th>\n",
       "      <td>-0.516557</td>\n",
       "      <td>0.918328</td>\n",
       "      <td>-1.516117</td>\n",
       "      <td>-0.215771</td>\n",
       "      <td>-1.434885</td>\n",
       "    </tr>\n",
       "    <tr>\n",
       "      <th>E</th>\n",
       "      <td>-0.104991</td>\n",
       "      <td>0.340142</td>\n",
       "      <td>-0.702132</td>\n",
       "      <td>0.366965</td>\n",
       "      <td>-0.445133</td>\n",
       "    </tr>\n",
       "  </tbody>\n",
       "</table>\n",
       "</div>"
      ],
      "text/plain": [
       "          P         R         S         T         U\n",
       "A  0.321191 -0.321610 -0.866797 -0.405498  0.642801\n",
       "B  0.262991 -1.068605  0.461694 -0.638045  1.331595\n",
       "C -1.038749  0.543688  0.962973 -1.307535 -1.582437\n",
       "D -0.516557  0.918328 -1.516117 -0.215771 -1.434885\n",
       "E -0.104991  0.340142 -0.702132  0.366965 -0.445133"
      ]
     },
     "execution_count": 28,
     "metadata": {},
     "output_type": "execute_result"
    }
   ],
   "source": [
    "df"
   ]
  },
  {
   "cell_type": "code",
   "execution_count": 29,
   "metadata": {},
   "outputs": [
    {
     "data": {
      "text/html": [
       "<div>\n",
       "<style scoped>\n",
       "    .dataframe tbody tr th:only-of-type {\n",
       "        vertical-align: middle;\n",
       "    }\n",
       "\n",
       "    .dataframe tbody tr th {\n",
       "        vertical-align: top;\n",
       "    }\n",
       "\n",
       "    .dataframe thead th {\n",
       "        text-align: right;\n",
       "    }\n",
       "</style>\n",
       "<table border=\"1\" class=\"dataframe\">\n",
       "  <thead>\n",
       "    <tr style=\"text-align: right;\">\n",
       "      <th></th>\n",
       "      <th>P</th>\n",
       "      <th>R</th>\n",
       "    </tr>\n",
       "  </thead>\n",
       "  <tbody>\n",
       "  </tbody>\n",
       "</table>\n",
       "</div>"
      ],
      "text/plain": [
       "Empty DataFrame\n",
       "Columns: [P, R]\n",
       "Index: []"
      ]
     },
     "execution_count": 29,
     "metadata": {},
     "output_type": "execute_result"
    }
   ],
   "source": [
    "df[(df['P']>0) & (df['R']>0)][['P','R']]"
   ]
  },
  {
   "cell_type": "code",
   "execution_count": 30,
   "metadata": {},
   "outputs": [
    {
     "data": {
      "text/html": [
       "<div>\n",
       "<style scoped>\n",
       "    .dataframe tbody tr th:only-of-type {\n",
       "        vertical-align: middle;\n",
       "    }\n",
       "\n",
       "    .dataframe tbody tr th {\n",
       "        vertical-align: top;\n",
       "    }\n",
       "\n",
       "    .dataframe thead th {\n",
       "        text-align: right;\n",
       "    }\n",
       "</style>\n",
       "<table border=\"1\" class=\"dataframe\">\n",
       "  <thead>\n",
       "    <tr style=\"text-align: right;\">\n",
       "      <th></th>\n",
       "      <th>index</th>\n",
       "      <th>P</th>\n",
       "      <th>R</th>\n",
       "      <th>S</th>\n",
       "      <th>T</th>\n",
       "      <th>U</th>\n",
       "    </tr>\n",
       "  </thead>\n",
       "  <tbody>\n",
       "    <tr>\n",
       "      <th>0</th>\n",
       "      <td>A</td>\n",
       "      <td>0.321191</td>\n",
       "      <td>-0.321610</td>\n",
       "      <td>-0.866797</td>\n",
       "      <td>-0.405498</td>\n",
       "      <td>0.642801</td>\n",
       "    </tr>\n",
       "    <tr>\n",
       "      <th>1</th>\n",
       "      <td>B</td>\n",
       "      <td>0.262991</td>\n",
       "      <td>-1.068605</td>\n",
       "      <td>0.461694</td>\n",
       "      <td>-0.638045</td>\n",
       "      <td>1.331595</td>\n",
       "    </tr>\n",
       "    <tr>\n",
       "      <th>2</th>\n",
       "      <td>C</td>\n",
       "      <td>-1.038749</td>\n",
       "      <td>0.543688</td>\n",
       "      <td>0.962973</td>\n",
       "      <td>-1.307535</td>\n",
       "      <td>-1.582437</td>\n",
       "    </tr>\n",
       "    <tr>\n",
       "      <th>3</th>\n",
       "      <td>D</td>\n",
       "      <td>-0.516557</td>\n",
       "      <td>0.918328</td>\n",
       "      <td>-1.516117</td>\n",
       "      <td>-0.215771</td>\n",
       "      <td>-1.434885</td>\n",
       "    </tr>\n",
       "    <tr>\n",
       "      <th>4</th>\n",
       "      <td>E</td>\n",
       "      <td>-0.104991</td>\n",
       "      <td>0.340142</td>\n",
       "      <td>-0.702132</td>\n",
       "      <td>0.366965</td>\n",
       "      <td>-0.445133</td>\n",
       "    </tr>\n",
       "  </tbody>\n",
       "</table>\n",
       "</div>"
      ],
      "text/plain": [
       "  index         P         R         S         T         U\n",
       "0     A  0.321191 -0.321610 -0.866797 -0.405498  0.642801\n",
       "1     B  0.262991 -1.068605  0.461694 -0.638045  1.331595\n",
       "2     C -1.038749  0.543688  0.962973 -1.307535 -1.582437\n",
       "3     D -0.516557  0.918328 -1.516117 -0.215771 -1.434885\n",
       "4     E -0.104991  0.340142 -0.702132  0.366965 -0.445133"
      ]
     },
     "execution_count": 30,
     "metadata": {},
     "output_type": "execute_result"
    }
   ],
   "source": [
    "df.reset_index()"
   ]
  },
  {
   "cell_type": "code",
   "execution_count": 31,
   "metadata": {},
   "outputs": [
    {
     "data": {
      "text/html": [
       "<div>\n",
       "<style scoped>\n",
       "    .dataframe tbody tr th:only-of-type {\n",
       "        vertical-align: middle;\n",
       "    }\n",
       "\n",
       "    .dataframe tbody tr th {\n",
       "        vertical-align: top;\n",
       "    }\n",
       "\n",
       "    .dataframe thead th {\n",
       "        text-align: right;\n",
       "    }\n",
       "</style>\n",
       "<table border=\"1\" class=\"dataframe\">\n",
       "  <thead>\n",
       "    <tr style=\"text-align: right;\">\n",
       "      <th></th>\n",
       "      <th>P</th>\n",
       "      <th>R</th>\n",
       "      <th>S</th>\n",
       "      <th>T</th>\n",
       "      <th>U</th>\n",
       "    </tr>\n",
       "  </thead>\n",
       "  <tbody>\n",
       "    <tr>\n",
       "      <th>A</th>\n",
       "      <td>0.321191</td>\n",
       "      <td>-0.321610</td>\n",
       "      <td>-0.866797</td>\n",
       "      <td>-0.405498</td>\n",
       "      <td>0.642801</td>\n",
       "    </tr>\n",
       "    <tr>\n",
       "      <th>B</th>\n",
       "      <td>0.262991</td>\n",
       "      <td>-1.068605</td>\n",
       "      <td>0.461694</td>\n",
       "      <td>-0.638045</td>\n",
       "      <td>1.331595</td>\n",
       "    </tr>\n",
       "    <tr>\n",
       "      <th>C</th>\n",
       "      <td>-1.038749</td>\n",
       "      <td>0.543688</td>\n",
       "      <td>0.962973</td>\n",
       "      <td>-1.307535</td>\n",
       "      <td>-1.582437</td>\n",
       "    </tr>\n",
       "    <tr>\n",
       "      <th>D</th>\n",
       "      <td>-0.516557</td>\n",
       "      <td>0.918328</td>\n",
       "      <td>-1.516117</td>\n",
       "      <td>-0.215771</td>\n",
       "      <td>-1.434885</td>\n",
       "    </tr>\n",
       "    <tr>\n",
       "      <th>E</th>\n",
       "      <td>-0.104991</td>\n",
       "      <td>0.340142</td>\n",
       "      <td>-0.702132</td>\n",
       "      <td>0.366965</td>\n",
       "      <td>-0.445133</td>\n",
       "    </tr>\n",
       "  </tbody>\n",
       "</table>\n",
       "</div>"
      ],
      "text/plain": [
       "          P         R         S         T         U\n",
       "A  0.321191 -0.321610 -0.866797 -0.405498  0.642801\n",
       "B  0.262991 -1.068605  0.461694 -0.638045  1.331595\n",
       "C -1.038749  0.543688  0.962973 -1.307535 -1.582437\n",
       "D -0.516557  0.918328 -1.516117 -0.215771 -1.434885\n",
       "E -0.104991  0.340142 -0.702132  0.366965 -0.445133"
      ]
     },
     "execution_count": 31,
     "metadata": {},
     "output_type": "execute_result"
    }
   ],
   "source": [
    "df"
   ]
  },
  {
   "cell_type": "code",
   "execution_count": 32,
   "metadata": {},
   "outputs": [],
   "source": [
    "df['H'] = [1,2,3,4,5]"
   ]
  },
  {
   "cell_type": "code",
   "execution_count": 33,
   "metadata": {},
   "outputs": [
    {
     "data": {
      "text/html": [
       "<div>\n",
       "<style scoped>\n",
       "    .dataframe tbody tr th:only-of-type {\n",
       "        vertical-align: middle;\n",
       "    }\n",
       "\n",
       "    .dataframe tbody tr th {\n",
       "        vertical-align: top;\n",
       "    }\n",
       "\n",
       "    .dataframe thead th {\n",
       "        text-align: right;\n",
       "    }\n",
       "</style>\n",
       "<table border=\"1\" class=\"dataframe\">\n",
       "  <thead>\n",
       "    <tr style=\"text-align: right;\">\n",
       "      <th></th>\n",
       "      <th>P</th>\n",
       "      <th>R</th>\n",
       "      <th>S</th>\n",
       "      <th>T</th>\n",
       "      <th>U</th>\n",
       "      <th>H</th>\n",
       "    </tr>\n",
       "  </thead>\n",
       "  <tbody>\n",
       "    <tr>\n",
       "      <th>A</th>\n",
       "      <td>0.321191</td>\n",
       "      <td>-0.321610</td>\n",
       "      <td>-0.866797</td>\n",
       "      <td>-0.405498</td>\n",
       "      <td>0.642801</td>\n",
       "      <td>1</td>\n",
       "    </tr>\n",
       "    <tr>\n",
       "      <th>B</th>\n",
       "      <td>0.262991</td>\n",
       "      <td>-1.068605</td>\n",
       "      <td>0.461694</td>\n",
       "      <td>-0.638045</td>\n",
       "      <td>1.331595</td>\n",
       "      <td>2</td>\n",
       "    </tr>\n",
       "    <tr>\n",
       "      <th>C</th>\n",
       "      <td>-1.038749</td>\n",
       "      <td>0.543688</td>\n",
       "      <td>0.962973</td>\n",
       "      <td>-1.307535</td>\n",
       "      <td>-1.582437</td>\n",
       "      <td>3</td>\n",
       "    </tr>\n",
       "    <tr>\n",
       "      <th>D</th>\n",
       "      <td>-0.516557</td>\n",
       "      <td>0.918328</td>\n",
       "      <td>-1.516117</td>\n",
       "      <td>-0.215771</td>\n",
       "      <td>-1.434885</td>\n",
       "      <td>4</td>\n",
       "    </tr>\n",
       "    <tr>\n",
       "      <th>E</th>\n",
       "      <td>-0.104991</td>\n",
       "      <td>0.340142</td>\n",
       "      <td>-0.702132</td>\n",
       "      <td>0.366965</td>\n",
       "      <td>-0.445133</td>\n",
       "      <td>5</td>\n",
       "    </tr>\n",
       "  </tbody>\n",
       "</table>\n",
       "</div>"
      ],
      "text/plain": [
       "          P         R         S         T         U  H\n",
       "A  0.321191 -0.321610 -0.866797 -0.405498  0.642801  1\n",
       "B  0.262991 -1.068605  0.461694 -0.638045  1.331595  2\n",
       "C -1.038749  0.543688  0.962973 -1.307535 -1.582437  3\n",
       "D -0.516557  0.918328 -1.516117 -0.215771 -1.434885  4\n",
       "E -0.104991  0.340142 -0.702132  0.366965 -0.445133  5"
      ]
     },
     "execution_count": 33,
     "metadata": {},
     "output_type": "execute_result"
    }
   ],
   "source": [
    "df"
   ]
  },
  {
   "cell_type": "code",
   "execution_count": null,
   "metadata": {},
   "outputs": [],
   "source": []
  },
  {
   "cell_type": "code",
   "execution_count": null,
   "metadata": {},
   "outputs": [],
   "source": []
  },
  {
   "cell_type": "code",
   "execution_count": null,
   "metadata": {},
   "outputs": [],
   "source": []
  },
  {
   "cell_type": "code",
   "execution_count": null,
   "metadata": {},
   "outputs": [],
   "source": []
  },
  {
   "cell_type": "code",
   "execution_count": null,
   "metadata": {},
   "outputs": [],
   "source": []
  }
 ],
 "metadata": {
  "kernelspec": {
   "display_name": "Python 3.10.4 64-bit",
   "language": "python",
   "name": "python3"
  },
  "language_info": {
   "codemirror_mode": {
    "name": "ipython",
    "version": 3
   },
   "file_extension": ".py",
   "mimetype": "text/x-python",
   "name": "python",
   "nbconvert_exporter": "python",
   "pygments_lexer": "ipython3",
   "version": "3.10.4"
  },
  "orig_nbformat": 4,
  "vscode": {
   "interpreter": {
    "hash": "a17e23e691a3fd027880c3dc5b55898c6632aeecdd31999b9d6ddbe3b33ac9fd"
   }
  }
 },
 "nbformat": 4,
 "nbformat_minor": 2
}
